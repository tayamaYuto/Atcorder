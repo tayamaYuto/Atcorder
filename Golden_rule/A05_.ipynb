{
 "cells": [
  {
   "cell_type": "code",
   "execution_count": null,
   "metadata": {},
   "outputs": [],
   "source": []
  },
  {
   "cell_type": "markdown",
   "metadata": {},
   "source": [
    "# A06"
   ]
  },
  {
   "cell_type": "code",
   "execution_count": 1,
   "metadata": {},
   "outputs": [
    {
     "name": "stderr",
     "output_type": "stream",
     "text": [
      "Hello\n"
     ]
    }
   ],
   "source": [
    "from logging import getLogger, StreamHandler, DEBUG\n",
    "logger = getLogger(__name__)\n",
    "handler = StreamHandler()\n",
    "handler.setLevel(DEBUG)\n",
    "logger.setLevel(DEBUG)\n",
    "logger.addHandler(handler)\n",
    "logger.propagate = False\n",
    "\n",
    "logger.debug('Hello')"
   ]
  },
  {
   "cell_type": "code",
   "execution_count": 2,
   "metadata": {},
   "outputs": [
    {
     "name": "stdout",
     "output_type": "stream",
     "text": [
      "7\n"
     ]
    }
   ],
   "source": [
    "N, K = map(int, input().split())\n",
    "count = 0\n",
    "\n",
    "for x in range(1, N+1):\n",
    "    for y in range(1, N+1):\n",
    "        z = K - x - y\n",
    "        if z >= 1 and z <= N:\n",
    "            count += 1\n",
    "\n",
    "print(count)"
   ]
  },
  {
   "cell_type": "markdown",
   "metadata": {},
   "source": [
    "# A07"
   ]
  },
  {
   "cell_type": "code",
   "execution_count": null,
   "metadata": {},
   "outputs": [],
   "source": [
    "N, Q = map(int, input().split())\n",
    "\n",
    "A_list = list(map(int, input().split()))\n",
    "\n",
    "L_R_list = []\n",
    "for i in range(Q):\n",
    "    L_R_list.append(list(map(int,input().split())))\n",
    "\n",
    "for start2finish in L_R_list:\n",
    "    start_day = start2finish[0]\n",
    "    finish_day = start2finish[1]\n",
    "\n",
    "    answer = sum(A_list[start_day-1:finish_day])\n",
    "    print(answer)\n",
    "\n"
   ]
  },
  {
   "cell_type": "code",
   "execution_count": null,
   "metadata": {},
   "outputs": [],
   "source": [
    "N, Q = map(int, input().split())\n",
    "\n",
    "A_list = list(map(int, input().split()))\n",
    "\n",
    "L_R_list = []\n",
    "for i in range(Q):\n",
    "    L_R_list.append(list(map(int,input().split())))\n",
    "\n",
    "sum_list = []\n",
    "sum_list[0] = 0\n",
    "for i in range(N):\n",
    "    sum_list[i] = sum_list[i+1] + A_list[i+1]\n",
    "\n",
    "for start2finish in L_R_list:\n",
    "    start_day = start2finish[0]\n",
    "    finish_day = start2finish[1]\n",
    "\n",
    "    print(sum_list[finish_day] - sum_list[start_day-1])\n",
    "\n"
   ]
  }
 ],
 "metadata": {
  "kernelspec": {
   "display_name": "Python 3",
   "language": "python",
   "name": "python3"
  },
  "language_info": {
   "codemirror_mode": {
    "name": "ipython",
    "version": 3
   },
   "file_extension": ".py",
   "mimetype": "text/x-python",
   "name": "python",
   "nbconvert_exporter": "python",
   "pygments_lexer": "ipython3",
   "version": "3.10.6"
  }
 },
 "nbformat": 4,
 "nbformat_minor": 2
}
